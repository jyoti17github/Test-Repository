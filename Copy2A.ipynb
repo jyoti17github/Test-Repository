{
  "nbformat": 4,
  "nbformat_minor": 0,
  "metadata": {
    "colab": {
      "name": "2A Assignment",
      "version": "0.3.2",
      "provenance": [],
      "collapsed_sections": [],
      "include_colab_link": true
    },
    "kernelspec": {
      "display_name": "Python 3",
      "name": "python3"
    }
  },
  "cells": [
    {
      "cell_type": "markdown",
      "metadata": {
        "id": "view-in-github",
        "colab_type": "text"
      },
      "source": [
        "<a href=\"https://colab.research.google.com/github/jyoti17github/Test-Repository/blob/master/Copy2A.ipynb\" target=\"_parent\"><img src=\"https://colab.research.google.com/assets/colab-badge.svg\" alt=\"Open In Colab\"/></a>"
      ]
    },
    {
      "metadata": {
        "colab_type": "text",
        "id": "5fCEDCU_qrC0"
      },
      "cell_type": "markdown",
      "source": [
        "<img height=\"45px\" src=\"https://colab.research.google.com/img/colab_favicon.ico\" align=\"left\" hspace=\"10px\" vspace=\"0px\">\n",
        "\n",
        "<h1>Assignment 2A</h1>\n",
        "\n",
        "Need to write Blog"
      ]
    },
    {
      "metadata": {
        "id": "R6W0hgaBlb1U",
        "colab_type": "text"
      },
      "cell_type": "markdown",
      "source": [
        ""
      ]
    },
    {
      "metadata": {
        "id": "G6LLQPQz3jop",
        "colab_type": "code",
        "colab": {}
      },
      "cell_type": "code",
      "source": [
        ""
      ],
      "execution_count": 0,
      "outputs": []
    },
    {
      "metadata": {
        "id": "Le1ktLBCXMc6",
        "colab_type": "text"
      },
      "cell_type": "markdown",
      "source": [
        ""
      ]
    },
    {
      "metadata": {
        "id": "uEMBJoarXVS1",
        "colab_type": "text"
      },
      "cell_type": "markdown",
      "source": [
        "\n",
        "\n",
        "HMKCODE \n",
        "\n",
        "Backpropagation Step by Step\n",
        "15 Feb 2018  \n",
        "\n",
        "get-location If you are building your own neural network, you will definitely need to understand how to train it. Backpropagation is a commonly used technique for training neural network. There are many resources explaining the technique, but this post will explain backpropagation with concrete example in a very detailed colorful steps. \n",
        "\n",
        "Overview\n",
        "\n",
        "In this post, we will build a neural network with three layers:\n",
        "•Input layer with two inputs neurons\n",
        "•One hidden layer with two neurons\n",
        "•Output layer with a single neuron\n",
        "\n",
        "android-tabs\n",
        "\n",
        "Weights, weights, weights\n",
        "\n",
        "Neural network training is about finding weights that minimize prediction error. We usually start our training with a set of randomly generated weights.Then, backpropagation is used to update the weights in an attempt to correctly map arbitrary inputs to outputs.\n",
        "\n",
        "Our initial weights will be as following: w1 = 0.15 w2 = 0.20, w3 = 0.25, w4 = 0.30, w5 = 0.30 and w6 = 0.15\n",
        "\n",
        "\n",
        "bp_weights\n",
        "\n",
        "Dataset\n",
        "\n",
        "Our dataset has one sample with two inputs and one output.\n",
        "\n",
        "dataset\n",
        "\n",
        "Our single sample is as following inputs=[2, 3] and output=[1].\n",
        "i1 =2 , i2 =3\n",
        "\n",
        "\n",
        "Forward Pass\n",
        "\n",
        "We will use given weights and inputs to predict the output. Inputs are multiplied by weights; the results are then passed forward to next layer.\n",
        "\n",
        "$$\n",
        "\\left[\\begin{array}{cc} \n",
        "2 & 3\n",
        "\\end{array}\\right]\n",
        "\\left[\\begin{array}{cc}0.15 & 0.25\\\\0.20 & 0.30\n",
        "\\end{array}\\right] =\\left[\\begin{array}{cc} 0.90 & 1.4\\end{array}\\right]\\left[\\begin{array}{cc} 0.30  \\\\ \n",
        " 0.15\\end{array}\\right] =\\left[\\begin{array}{cc} 0.480 \\end{array}\\right]$$ \\\\\n",
        "\n",
        "bp_forward \n",
        "\n",
        "\n",
        "Calculating Error\n",
        "\n",
        "Now, it’s time to find out how our network performed by calculating the difference between the actual output and predicted one. It’s clear that our network output, or prediction, is not even close to actual output. We can calculate the difference or the error as following.\n",
        "\n",
        "$$\n",
        "Error =(1/2)(0.480-1.0)^2 = 0.135\n",
        "$$\n",
        "\n",
        "bp_error\n",
        "\n",
        "Reducing Error\n",
        "\n",
        "Our main goal of the training is to reduce the error or the difference between prediction and actual output. Since actual output is constant, “not changing”, the only way to reduce the error is to change prediction value. The question now is, how to change prediction value?\n",
        "\n",
        "By decomposing prediction into its basic elements we can find that weights are the variable elements affecting prediction value. In other words, in order to change prediction value, we need to change weights values.\n",
        "\n",
        "prediction = output\n",
        "\n",
        "$$prediction  =(h1)w5 + (h2)w6$$\n",
        "                                        \n",
        " $$ where \\\\  h1 =i1w1 +i2w2\n",
        "   \\\\ h2 = i1w3+i2w4$$\n",
        "                                        \n",
        "$$prediction =(i1w1+i2w2)w5 +(i1w3+i2w4)w6$$\n",
        "bp_prediction_elements\n",
        "\n",
        "\n",
        "The question now is how to change\\update the weights value so that the error is reduced?\n",
        " The answer is Backpropagation!\n",
        "\n",
        "Backpropagation\n",
        "\n",
        "Backpropagation, short for “backward propagation of errors”, is a mechanism used to update the weights using gradient descent. It calculates the gradient of the error function with respect to the neural network’s weights. The calculation proceeds backwards through the network.\n",
        "\n",
        "\n",
        "Gradient descent is an iterative optimization algorithm for finding the minimum of a function; in our case we want to minimize th error function. To find a local minimum of a function using gradient descent, one takes steps proportional to the negative of the gradient of the function at the current point.\n",
        "\n",
        "$$wx = wx -a(\\partial Error / \\partial wx)   $$   where a is learning rate\n",
        "\n",
        "bp_update_formula\n",
        "For example, to update w6, we take the current w6 and subtract the partial derivative of error function with respect to w6. Optionally, we multiply the derivative of the error function by a selected number to make sure that the new updated weight is minimizing the error function; this number is called learning rate.\n",
        "update w6\n",
        "$$w6 = w6 -a(\\partial Error / \\partial w6)   $$The derivation of the error function is evaluated by applying the chain rule as following\n",
        "\n",
        "finding partial derivative with respect to w6\n",
        "\n",
        "So to update w6 we can apply the following formula\n",
        "\n",
        "$$w6 = w6- a\\Delta h2$$bp_w6_update_closed_form.png\n",
        "\n",
        "Similarly, we can derive the update formula for w5 and any other \n",
        "\n",
        "$$w5 = w5- a\\Delta h2$$weights existing between the output and the hidden layer.\n",
        "\n",
        "bp_w5_update_closed_form.png\n",
        "\n",
        "However, when moving backward to update w1, w2, w3 and w4 existing between input and hidden layer, the partial derivative for the error function with respect to w1, for example, will be as following.\n",
        "\n",
        "finding partial derivative with respect to w1\n",
        "\n",
        "We can find the update formula for the remaining weights w2, w3 and w4 in the same way.\n",
        "\n",
        "In summary, the update formulas for all weights will be as following:\n",
        "\n",
        "$$*w6  = w6- a(h2.\\Delta)$$\n",
        "$$*w5  = w5- a(h1.\\Delta)$$\n",
        "$$*w4  = w4- a(i2.\\Delta w6)$$\n",
        "$$*w3  = w3- a(i2.\\Delta w6)$$\n",
        "$$*w2  = w2- a(i2.\\Delta w5)$$\n",
        "$$*w1   = w1- a(i2.\\Delta w5)$$\n",
        "\n",
        "bp_update_all_weights\n",
        "\n",
        "We can rewrite the update formulas in matrices as following\n",
        "\n",
        "bp_update_all_weights_matrix\n",
        "\n",
        "Backward Pass\n",
        "\n",
        "Using derived formulas we can find the new weights.\n",
        "\n",
        "\n",
        "Learning rate: is a hyperparameter which means that we need to manually guess its value.\n",
        "\n",
        "$$\\Delta = 0.480 -1 =-0.520 \\\\a = 0.05$$\n",
        "\n",
        "bp_new_weights\n",
        "weights calculation : \n",
        "$$\n",
        "\\left[\\begin{array}{cc} w5 \\\\ w6\n",
        "\\end{array}\\right] =\\left[\\begin{array}{cc}0.30  \\\\  0.15\\end{array}\\right]-0.05(-0.520)\n",
        "\\left[\\begin{array}{cc} 0.90 \\\\ 1.40\\end{array}\\right] =\\left[\\begin{array}{cc} 0.30 \\\\0.15 \n",
        "\\end{array}\\right]-\\left[\\begin{array}{cc} -0.02 \\\\-0.03\n",
        "\\end{array}\\right] =\\left[\\begin{array}{cc} 0.32\\\\0.18\\end{array}\\right]$$ \\\\\n",
        "\n",
        "$$\n",
        "\\left[\\begin{array}{cc} w1 & w3 \\\\ w2 & w4\n",
        "\\end{array}\\right] =\\left[\\begin{array}{cc}0.15 & 0.25\\\\0.20 & 0.30\\end{array}\\right]-0.05(-0.520)\n",
        "\\left[\\begin{array}{cc} 2 \\\\ 3\\end{array}\\right]\\left[\\begin{array}{cc}0.30& 0.15\n",
        "\\end{array}\\right] =\\left[\\begin{array}{cc}0.15 & 0.25\\\\0.20 & 0.30\\end{array}\\right]+\\left[\\begin{array}{cc}0.02 & 0.01\\\\0.02 & 0.01\\end{array}\\right]   =\\left[\\begin{array}{cc}0.17 & 0.26\\\\\n",
        "0.22 & 0.31\\end{array}\\right]$$ \\\\\n",
        "Now, using the new weights we will repeat the forward passed\n",
        "\n",
        "$$\n",
        "\\left[\\begin{array}{cc} 2 & 3\\end{array}\\right]\\left[\\begin{array}{cc}0.17 & 0.26\\\\\n",
        "0.22 & 0.31\\end{array}\\right] =\\left[\\begin{array}{cc} 0.99 & 1.45\\end{array}\\right]\\left[\\begin{array}{cc} 0.32  \\\\ 0.18\\end{array}\\right] =\\left[\\begin{array}{cc} 0.578 \\end{array}\\right]$$ \\\\\n",
        "bp_forward_2\n",
        "\n",
        "We can notice that the prediction 0.578  is a little bit closer to actual output than the previously predicted one 0.480. We can repeat the same process of backward and forward pass until error is close or equal to zero.\n",
        "\n",
        "\n",
        " \n",
        "\n",
        "\n",
        "   \n",
        "\n",
        "\n",
        "     \n",
        "\n",
        "© 2018 hmkcode. All rights reserved.\n"
      ]
    },
    {
      "metadata": {
        "id": "0uN5pTxoXr9M",
        "colab_type": "text"
      },
      "cell_type": "markdown",
      "source": [
        ""
      ]
    }
  ]
}